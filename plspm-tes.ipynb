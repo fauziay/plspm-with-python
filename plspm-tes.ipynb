{
 "cells": [
  {
   "cell_type": "markdown",
   "id": "macro-sender",
   "metadata": {},
   "source": [
    "# PLSPM\n",
    "Ref:\n",
    "\n",
    "https://plspm.readthedocs.io/en/latest/source/plspm.bootstrap.html\n",
    "\n",
    "https://pypi.org/project/plspm/"
   ]
  },
  {
   "source": [
    "# prepare Data"
   ],
   "cell_type": "code",
   "metadata": {},
   "execution_count": null,
   "outputs": []
  },
  {
   "source": [
    "!pip install pandas plspm"
   ],
   "cell_type": "code",
   "metadata": {},
   "execution_count": null,
   "outputs": []
  },
  {
   "cell_type": "code",
   "execution_count": null,
   "id": "executive-print",
   "metadata": {},
   "outputs": [],
   "source": [
    "import pandas as pd, plspm.config as c\n",
    "from plspm.plspm import Plspm\n",
    "from plspm.scheme import Scheme\n",
    "from plspm.mode import Mode\n",
    "from plspm.bootstrap import Bootstrap"
   ]
  },
  {
   "cell_type": "code",
   "execution_count": null,
   "id": "needed-september",
   "metadata": {},
   "outputs": [],
   "source": [
    "df = pd.read_csv(\"datafull-last.csv\", index_col=0) #Import Your Data\n",
    "df"
   ]
  },
  {
   "cell_type": "markdown",
   "id": "former-cosmetic",
   "metadata": {},
   "source": [
    "# Inner model"
   ]
  },
  {
   "cell_type": "code",
   "execution_count": null,
   "id": "homeless-minneapolis",
   "metadata": {},
   "outputs": [],
   "source": [
    "structure = c.Structure()\n",
    "structure.add_path([\"Relative Advantage\"], [\"Social Media Adoption\"])\n",
    "structure.add_path([\"Top Management Support\"], [\"Social Media Adoption\"])\n",
    "structure.add_path([\"Organizational Readiness\"], [\"Social Media Adoption\"])\n",
    "structure.add_path([\"Institutional Pressure\"], [\"Social Media Adoption\"])\n",
    "structure.add_path([\"Social Media Adoption\"], [\"Organizational Performance\"])\n",
    "structure.add_path([\"Social Media Adoption\"], [\"Marketing Capabilities\"])\n",
    "structure.add_path([\"Marketing Capabilities\"], [\"Organizational Performance\"])"
   ]
  },
  {
   "cell_type": "markdown",
   "id": "documentary-wholesale",
   "metadata": {},
   "source": [
    "# Outer model"
   ]
  },
  {
   "cell_type": "code",
   "execution_count": null,
   "id": "specified-hacker",
   "metadata": {},
   "outputs": [],
   "source": [
    "#Mode.A for Reflective Mode.B for Formative\n",
    "config = c.Config(structure.path(), scaled=False)\n",
    "config.add_lv_with_columns_named(\"Relative Advantage\", Mode.A, df, \"RA\")\n",
    "config.add_lv_with_columns_named(\"Top Management Support\", Mode.A, df, \"TMS\")\n",
    "config.add_lv_with_columns_named(\"Organizational Readiness\", Mode.A, df, \"OR\")\n",
    "config.add_lv_with_columns_named(\"Institutional Pressure\", Mode.A, df, \"IP\")\n",
    "config.add_lv_with_columns_named(\"Social Media Adoption\", Mode.B, df, \"SMA\")\n",
    "config.add_lv_with_columns_named(\"Marketing Capabilities\", Mode.A, df, \"MC\")\n",
    "config.add_lv_with_columns_named(\"Organizational Performance\", Mode.A, df, \"OP\")"
   ]
  },
  {
   "cell_type": "markdown",
   "id": "lyric-isaac",
   "metadata": {},
   "source": [
    "# Run PLSPM"
   ]
  },
  {
   "cell_type": "code",
   "execution_count": null,
   "id": "separated-musical",
   "metadata": {},
   "outputs": [],
   "source": [
    "plspm_calc = Plspm(df, config, Scheme.CENTROID)"
   ]
  },
  {
   "cell_type": "markdown",
   "id": "hired-mixer",
   "metadata": {},
   "source": [
    "# Tahap 1 Measurement Model Assessment"
   ]
  },
  {
   "cell_type": "markdown",
   "id": "mysterious-medication",
   "metadata": {},
   "source": [
    "# Unidimensionality\n",
    "apakah indikator mewakili dengan baik variabel yang diukurnya? cronbach alpha > 0.7"
   ]
  },
  {
   "cell_type": "code",
   "execution_count": null,
   "id": "suited-bubble",
   "metadata": {},
   "outputs": [],
   "source": [
    "plspm_calc.unidimensionality()"
   ]
  },
  {
   "cell_type": "markdown",
   "id": "southwest-administration",
   "metadata": {},
   "source": [
    "# Pengujian keeratan hubungan dan reliability indikator\n",
    "Apakah setiap indikator memiliki hubungan dan reliability yang bagus untuk mengukur variabelnya masing-masing? melalui outer loading > 0.7 dan communality test > 0.5"
   ]
  },
  {
   "cell_type": "code",
   "execution_count": null,
   "id": "elementary-haven",
   "metadata": {},
   "outputs": [],
   "source": [
    "plspm_calc.outer_model()"
   ]
  },
  {
   "cell_type": "markdown",
   "id": "minimal-childhood",
   "metadata": {},
   "source": [
    "# Pengujian cross-loadings\n",
    "indikator dari setiap variabel mengukur dengan baik variabelnya?"
   ]
  },
  {
   "cell_type": "code",
   "execution_count": null,
   "id": "adjustable-hearts",
   "metadata": {},
   "outputs": [],
   "source": [
    "plspm_calc.crossloadings()"
   ]
  },
  {
   "cell_type": "markdown",
   "id": "deadly-swing",
   "metadata": {},
   "source": [
    "# Tahap 2 Structural Model Assessment"
   ]
  },
  {
   "cell_type": "markdown",
   "id": "legislative-republican",
   "metadata": {},
   "source": [
    "# Persamaan regresi tiap variabel endogen"
   ]
  },
  {
   "cell_type": "code",
   "execution_count": null,
   "id": "pursuant-service",
   "metadata": {},
   "outputs": [],
   "source": [
    "plspm_calc.inner_model()"
   ]
  },
  {
   "cell_type": "markdown",
   "id": "recent-jones",
   "metadata": {},
   "source": [
    "# Koefisien determinasi R2 dan Redundancy\n",
    "Redundancy, nilai mean_redundancy yang semakin besar menunjukkan kemampuan variabel independent semakin mampu mengukur variasi variabel endogen nya."
   ]
  },
  {
   "cell_type": "code",
   "execution_count": null,
   "id": "seventh-stockholm",
   "metadata": {},
   "outputs": [],
   "source": [
    "plspm_calc.inner_summary()"
   ]
  },
  {
   "cell_type": "markdown",
   "id": "invisible-kennedy",
   "metadata": {},
   "source": [
    "# the Goodness-of-Fit (GoF)\n",
    "Semakin besar nilai GoF menunjukkan semakin bagusnya kinerja dan kualitas secara umum dari model pengukuran baik inner maupun outer model."
   ]
  },
  {
   "cell_type": "code",
   "execution_count": null,
   "id": "catholic-cradle",
   "metadata": {},
   "outputs": [],
   "source": [
    "plspm_calc.goodness_of_fit()"
   ]
  },
  {
   "cell_type": "code",
   "execution_count": null,
   "id": "quiet-session",
   "metadata": {},
   "outputs": [],
   "source": [
    "print(plspm_calc.effects())"
   ]
  },
  {
   "cell_type": "code",
   "execution_count": null,
   "id": "tutorial-stephen",
   "metadata": {},
   "outputs": [],
   "source": [
    "print(plspm_calc.path_coefficients())"
   ]
  },
  {
   "cell_type": "markdown",
   "id": "blank-pendant",
   "metadata": {},
   "source": [
    "# Tahap 3 Bootstrapping"
   ]
  },
  {
   "cell_type": "code",
   "execution_count": null,
   "id": "distributed-capture",
   "metadata": {},
   "outputs": [],
   "source": [
    "plspm_calc = Plspm(df, config, bootstrap=True, bootstrap_iterations=500)"
   ]
  },
  {
   "cell_type": "markdown",
   "id": "referenced-equipment",
   "metadata": {},
   "source": [
    "# Direct effects for paths\n",
    "calculated from bootstrap validation."
   ]
  },
  {
   "cell_type": "code",
   "execution_count": null,
   "id": "acquired-happiness",
   "metadata": {},
   "outputs": [],
   "source": [
    "plspm_calc.bootstrap().paths()"
   ]
  },
  {
   "cell_type": "markdown",
   "id": "forward-threshold",
   "metadata": {},
   "source": [
    "# Total effects for paths \n",
    "Indirect effects calculated from bootstrap validation."
   ]
  },
  {
   "cell_type": "code",
   "execution_count": null,
   "id": "explicit-cheat",
   "metadata": {},
   "outputs": [],
   "source": [
    "plspm_calc.bootstrap().total_effects()"
   ]
  },
  {
   "cell_type": "markdown",
   "id": "driving-exemption",
   "metadata": {},
   "source": [
    "R squared for latent variables calculated from bootstrap validation."
   ]
  },
  {
   "cell_type": "code",
   "execution_count": null,
   "id": "coordinate-cornwall",
   "metadata": {},
   "outputs": [],
   "source": [
    "plspm_calc.bootstrap().r_squared()"
   ]
  },
  {
   "cell_type": "markdown",
   "id": "chubby-punch",
   "metadata": {},
   "source": [
    "Loadings of manifest variables calculated from bootstrap validation."
   ]
  },
  {
   "cell_type": "code",
   "execution_count": null,
   "id": "coordinate-compromise",
   "metadata": {},
   "outputs": [],
   "source": [
    "plspm_calc.bootstrap().loading()"
   ]
  },
  {
   "cell_type": "markdown",
   "id": "therapeutic-rotation",
   "metadata": {},
   "source": [
    "Outer weights calculated from bootstrap validation."
   ]
  },
  {
   "cell_type": "code",
   "execution_count": null,
   "id": "changing-merchant",
   "metadata": {},
   "outputs": [],
   "source": [
    "plspm_calc.bootstrap().weights()"
   ]
  }
 ],
 "metadata": {
  "kernelspec": {
   "name": "python3",
   "display_name": "Python 3.9.2 64-bit"
  },
  "language_info": {
   "codemirror_mode": {
    "name": "ipython",
    "version": 3
   },
   "file_extension": ".py",
   "mimetype": "text/x-python",
   "name": "python",
   "nbconvert_exporter": "python",
   "pygments_lexer": "ipython3",
   "version": "3.9.2"
  },
  "interpreter": {
   "hash": "81f712bcd5be24ff053cb195d5e41838fb80f3366327892ce83bd4af5771a204"
  }
 },
 "nbformat": 4,
 "nbformat_minor": 5
}